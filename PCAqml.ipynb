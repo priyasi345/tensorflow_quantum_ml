{
 "cells": [
  {
   "cell_type": "code",
   "execution_count": 16,
   "metadata": {},
   "outputs": [],
   "source": [
    "import numpy as np\n",
    "import pandas as pd\n",
    "import scipy\n",
    "from scipy.linalg import expm\n",
    "from scipy.misc import toimage\n",
    "import matplotlib.pyplot as plt\n",
    "from mpl_toolkits.mplot3d import Axes3D\n",
    "\n",
    "from sklearn.model_selection import train_test_split\n",
    "from sklearn.preprocessing import StandardScaler, MinMaxScaler\n",
    "from sklearn.decomposition import PCA\n",
    "\n",
    "#Qiskit Set\n",
    "from qiskit import BasicAer\n",
    "from qiskit.aqua.utils import split_dataset_to_data_and_labels, map_label_to_class_name\n",
    "from qiskit.aqua.input import ClassificationInput\n",
    "from qiskit.aqua import run_algorithm, QuantumInstance\n",
    "from qiskit.aqua.algorithms import QSVM\n",
    "from qiskit.aqua.components.feature_maps import SecondOrderExpansion"
   ]
  },
  {
   "cell_type": "code",
   "execution_count": 43,
   "metadata": {},
   "outputs": [],
   "source": [
    "#def Breast_cancer(training_size, test_size, n, PLOT_DATA):\n",
    "\n",
    "training_size=20\n",
    "test_size=10\n",
    "n=6\n",
    "PLOT_DATA=True"
   ]
  },
  {
   "cell_type": "code",
   "execution_count": 44,
   "metadata": {},
   "outputs": [
    {
     "name": "stdout",
     "output_type": "stream",
     "text": [
      ">> Shape of Credit Card dataset: (30000, 23), Shape of Target: (30000,)\n"
     ]
    }
   ],
   "source": [
    "#Load DataSet\n",
    "\n",
    "class_labels = [r'A', r'B']\n",
    "\n",
    "# Credit\n",
    "\n",
    "CC_df=pd.read_csv('UCI_Credit_Card.csv', sep=',')\n",
    "\n",
    "CC_target=CC_df['default.payment.next.month'].values\n",
    "CC_df=CC_df.drop(['default.payment.next.month'], axis=1)\n",
    "CC_data=CC_df.values\n",
    "\n",
    "print(\">> Shape of Credit Card dataset: \"+str(CC_data.shape)+\", Shape of Target: \"+str(CC_target.shape))"
   ]
  },
  {
   "cell_type": "code",
   "execution_count": 45,
   "metadata": {},
   "outputs": [
    {
     "data": {
      "text/html": [
       "<div>\n",
       "<style scoped>\n",
       "    .dataframe tbody tr th:only-of-type {\n",
       "        vertical-align: middle;\n",
       "    }\n",
       "\n",
       "    .dataframe tbody tr th {\n",
       "        vertical-align: top;\n",
       "    }\n",
       "\n",
       "    .dataframe thead th {\n",
       "        text-align: right;\n",
       "    }\n",
       "</style>\n",
       "<table border=\"1\" class=\"dataframe\">\n",
       "  <thead>\n",
       "    <tr style=\"text-align: right;\">\n",
       "      <th></th>\n",
       "      <th>LIMIT_BAL</th>\n",
       "      <th>SEX</th>\n",
       "      <th>EDUCATION</th>\n",
       "      <th>MARRIAGE</th>\n",
       "      <th>AGE</th>\n",
       "      <th>PAY_0</th>\n",
       "      <th>PAY_2</th>\n",
       "      <th>PAY_3</th>\n",
       "      <th>PAY_4</th>\n",
       "      <th>PAY_5</th>\n",
       "      <th>...</th>\n",
       "      <th>BILL_AMT3</th>\n",
       "      <th>BILL_AMT4</th>\n",
       "      <th>BILL_AMT5</th>\n",
       "      <th>BILL_AMT6</th>\n",
       "      <th>PAY_AMT1</th>\n",
       "      <th>PAY_AMT2</th>\n",
       "      <th>PAY_AMT3</th>\n",
       "      <th>PAY_AMT4</th>\n",
       "      <th>PAY_AMT5</th>\n",
       "      <th>PAY_AMT6</th>\n",
       "    </tr>\n",
       "  </thead>\n",
       "  <tbody>\n",
       "    <tr>\n",
       "      <th>0</th>\n",
       "      <td>20000.0</td>\n",
       "      <td>2</td>\n",
       "      <td>2</td>\n",
       "      <td>1</td>\n",
       "      <td>24</td>\n",
       "      <td>2</td>\n",
       "      <td>2</td>\n",
       "      <td>-1</td>\n",
       "      <td>-1</td>\n",
       "      <td>-2</td>\n",
       "      <td>...</td>\n",
       "      <td>689.0</td>\n",
       "      <td>0.0</td>\n",
       "      <td>0.0</td>\n",
       "      <td>0.0</td>\n",
       "      <td>0.0</td>\n",
       "      <td>689.0</td>\n",
       "      <td>0.0</td>\n",
       "      <td>0.0</td>\n",
       "      <td>0.0</td>\n",
       "      <td>0.0</td>\n",
       "    </tr>\n",
       "    <tr>\n",
       "      <th>1</th>\n",
       "      <td>120000.0</td>\n",
       "      <td>2</td>\n",
       "      <td>2</td>\n",
       "      <td>2</td>\n",
       "      <td>26</td>\n",
       "      <td>-1</td>\n",
       "      <td>2</td>\n",
       "      <td>0</td>\n",
       "      <td>0</td>\n",
       "      <td>0</td>\n",
       "      <td>...</td>\n",
       "      <td>2682.0</td>\n",
       "      <td>3272.0</td>\n",
       "      <td>3455.0</td>\n",
       "      <td>3261.0</td>\n",
       "      <td>0.0</td>\n",
       "      <td>1000.0</td>\n",
       "      <td>1000.0</td>\n",
       "      <td>1000.0</td>\n",
       "      <td>0.0</td>\n",
       "      <td>2000.0</td>\n",
       "    </tr>\n",
       "    <tr>\n",
       "      <th>2</th>\n",
       "      <td>90000.0</td>\n",
       "      <td>2</td>\n",
       "      <td>2</td>\n",
       "      <td>2</td>\n",
       "      <td>34</td>\n",
       "      <td>0</td>\n",
       "      <td>0</td>\n",
       "      <td>0</td>\n",
       "      <td>0</td>\n",
       "      <td>0</td>\n",
       "      <td>...</td>\n",
       "      <td>13559.0</td>\n",
       "      <td>14331.0</td>\n",
       "      <td>14948.0</td>\n",
       "      <td>15549.0</td>\n",
       "      <td>1518.0</td>\n",
       "      <td>1500.0</td>\n",
       "      <td>1000.0</td>\n",
       "      <td>1000.0</td>\n",
       "      <td>1000.0</td>\n",
       "      <td>5000.0</td>\n",
       "    </tr>\n",
       "    <tr>\n",
       "      <th>3</th>\n",
       "      <td>50000.0</td>\n",
       "      <td>2</td>\n",
       "      <td>2</td>\n",
       "      <td>1</td>\n",
       "      <td>37</td>\n",
       "      <td>0</td>\n",
       "      <td>0</td>\n",
       "      <td>0</td>\n",
       "      <td>0</td>\n",
       "      <td>0</td>\n",
       "      <td>...</td>\n",
       "      <td>49291.0</td>\n",
       "      <td>28314.0</td>\n",
       "      <td>28959.0</td>\n",
       "      <td>29547.0</td>\n",
       "      <td>2000.0</td>\n",
       "      <td>2019.0</td>\n",
       "      <td>1200.0</td>\n",
       "      <td>1100.0</td>\n",
       "      <td>1069.0</td>\n",
       "      <td>1000.0</td>\n",
       "    </tr>\n",
       "    <tr>\n",
       "      <th>4</th>\n",
       "      <td>50000.0</td>\n",
       "      <td>1</td>\n",
       "      <td>2</td>\n",
       "      <td>1</td>\n",
       "      <td>57</td>\n",
       "      <td>-1</td>\n",
       "      <td>0</td>\n",
       "      <td>-1</td>\n",
       "      <td>0</td>\n",
       "      <td>0</td>\n",
       "      <td>...</td>\n",
       "      <td>35835.0</td>\n",
       "      <td>20940.0</td>\n",
       "      <td>19146.0</td>\n",
       "      <td>19131.0</td>\n",
       "      <td>2000.0</td>\n",
       "      <td>36681.0</td>\n",
       "      <td>10000.0</td>\n",
       "      <td>9000.0</td>\n",
       "      <td>689.0</td>\n",
       "      <td>679.0</td>\n",
       "    </tr>\n",
       "  </tbody>\n",
       "</table>\n",
       "<p>5 rows × 23 columns</p>\n",
       "</div>"
      ],
      "text/plain": [
       "   LIMIT_BAL  SEX  EDUCATION  MARRIAGE  AGE  PAY_0  PAY_2  PAY_3  PAY_4  \\\n",
       "0    20000.0    2          2         1   24      2      2     -1     -1   \n",
       "1   120000.0    2          2         2   26     -1      2      0      0   \n",
       "2    90000.0    2          2         2   34      0      0      0      0   \n",
       "3    50000.0    2          2         1   37      0      0      0      0   \n",
       "4    50000.0    1          2         1   57     -1      0     -1      0   \n",
       "\n",
       "   PAY_5    ...     BILL_AMT3  BILL_AMT4  BILL_AMT5  BILL_AMT6  PAY_AMT1  \\\n",
       "0     -2    ...         689.0        0.0        0.0        0.0       0.0   \n",
       "1      0    ...        2682.0     3272.0     3455.0     3261.0       0.0   \n",
       "2      0    ...       13559.0    14331.0    14948.0    15549.0    1518.0   \n",
       "3      0    ...       49291.0    28314.0    28959.0    29547.0    2000.0   \n",
       "4      0    ...       35835.0    20940.0    19146.0    19131.0    2000.0   \n",
       "\n",
       "   PAY_AMT2  PAY_AMT3  PAY_AMT4  PAY_AMT5  PAY_AMT6  \n",
       "0     689.0       0.0       0.0       0.0       0.0  \n",
       "1    1000.0    1000.0    1000.0       0.0    2000.0  \n",
       "2    1500.0    1000.0    1000.0    1000.0    5000.0  \n",
       "3    2019.0    1200.0    1100.0    1069.0    1000.0  \n",
       "4   36681.0   10000.0    9000.0     689.0     679.0  \n",
       "\n",
       "[5 rows x 23 columns]"
      ]
     },
     "execution_count": 45,
     "metadata": {},
     "output_type": "execute_result"
    }
   ],
   "source": [
    "CC_df.head()"
   ]
  },
  {
   "cell_type": "code",
   "execution_count": 46,
   "metadata": {},
   "outputs": [
    {
     "name": "stdout",
     "output_type": "stream",
     "text": [
      ">> Shape of sample train: (24000, 23), Shape of sample test: (6000, 23)\n"
     ]
    }
   ],
   "source": [
    "sample_train, sample_test, label_train, label_test = train_test_split(CC_data, CC_target, test_size=0.20, random_state=12)\n",
    "\n",
    "print(\">> Shape of sample train: \"+str(sample_train.shape)+\", Shape of sample test: \"+str(sample_test.shape))"
   ]
  },
  {
   "cell_type": "code",
   "execution_count": 47,
   "metadata": {},
   "outputs": [],
   "source": [
    "# Now we standarize for gaussian around 0 with unit variance\n",
    "std_scale = StandardScaler().fit(sample_train)\n",
    "sample_train = std_scale.transform(sample_train)\n",
    "sample_test = std_scale.transform(sample_test)"
   ]
  },
  {
   "cell_type": "code",
   "execution_count": 48,
   "metadata": {},
   "outputs": [
    {
     "data": {
      "text/plain": [
       "array([-0.520584  , -1.24008173,  0.18590253, -1.05419699,  0.70656115,\n",
       "        0.01578468,  0.11319109,  0.13764758,  0.18493656,  0.23196724,\n",
       "        0.25222204,  0.66193279,  0.62406562,  0.59477358,  0.58100544,\n",
       "        0.56460585,  0.4875931 , -0.13822209, -0.08239435, -0.13691494,\n",
       "       -0.09968343, -0.12344716, -0.27695333])"
      ]
     },
     "execution_count": 48,
     "metadata": {},
     "output_type": "execute_result"
    }
   ],
   "source": [
    "sample_train[1]"
   ]
  },
  {
   "cell_type": "code",
   "execution_count": 49,
   "metadata": {},
   "outputs": [
    {
     "data": {
      "text/plain": [
       "array([ 0.01786839, -1.24008173,  0.18590253,  0.85890152, -0.70479695,\n",
       "        0.90506247, -1.56474974, -1.53630318, -1.52447127, -1.53400063,\n",
       "       -1.49477042, -0.69510131, -0.69075318, -0.67812044, -0.67269172,\n",
       "       -0.66169649, -0.6522335 , -0.33477135, -0.25411943, -0.29065349,\n",
       "       -0.31180365, -0.31359429, -0.29602613])"
      ]
     },
     "execution_count": 49,
     "metadata": {},
     "output_type": "execute_result"
    }
   ],
   "source": [
    "sample_test[1]"
   ]
  },
  {
   "cell_type": "code",
   "execution_count": 50,
   "metadata": {},
   "outputs": [
    {
     "name": "stdout",
     "output_type": "stream",
     "text": [
      ">> Shape of reduced sample train: (24000, 6), Shape of reduced sample test: (6000, 6)\n"
     ]
    }
   ],
   "source": [
    "# Now reduce number of features to number of qubits\n",
    "pca = PCA(n_components=n).fit(sample_train)\n",
    "sample_train = pca.transform(sample_train)\n",
    "sample_test = pca.transform(sample_test)\n",
    "\n",
    "print(\">> Shape of reduced sample train: \"+str(sample_train.shape)+\", Shape of reduced sample test: \"+str(sample_test.shape))"
   ]
  },
  {
   "cell_type": "code",
   "execution_count": 51,
   "metadata": {},
   "outputs": [
    {
     "data": {
      "text/plain": [
       "PCA(copy=True, iterated_power='auto', n_components=6, random_state=None,\n",
       "  svd_solver='auto', tol=0.0, whiten=False)"
      ]
     },
     "execution_count": 51,
     "metadata": {},
     "output_type": "execute_result"
    }
   ],
   "source": [
    "pca"
   ]
  },
  {
   "cell_type": "code",
   "execution_count": 52,
   "metadata": {},
   "outputs": [
    {
     "data": {
      "image/png": "[encoded data removed]",
      "text/plain": [
       "<Figure size 432x288 with 1 Axes>"
      ]
     },
     "metadata": {
      "needs_background": "light"
     },
     "output_type": "display_data"
    }
   ],
   "source": [
    "# Scale to the range (-1,+1)\n",
    "samples = np.append(sample_train, sample_test, axis=0)\n",
    "minmax_scale = MinMaxScaler((-1, 1)).fit(samples)\n",
    "sample_train = minmax_scale.transform(sample_train)\n",
    "sample_test = minmax_scale.transform(sample_test)\n",
    "\n",
    "# Pick training size number of samples from each distro\n",
    "training_input = {key: (sample_train[label_train == k, :])[:training_size] for k, key in enumerate(class_labels)}\n",
    "test_input = {key: (sample_test[label_test == k, :])[:test_size] for k, key in enumerate(class_labels)}\n",
    "\n",
    "if PLOT_DATA:\n",
    "    for k in range(0, 2):\n",
    "        plt.scatter(\n",
    "            sample_train[label_train == k, 0][:training_size],\n",
    "            sample_train[label_train == k, 1][:training_size]\n",
    "        )\n",
    "\n",
    "    plt.title(\"PCA dim. Reduced Credit Card dataset\")\n",
    "    plt.show()\n",
    "\n",
    "#return sample_train, training_input, test_input, class_labels"
   ]
  },
  {
   "cell_type": "code",
   "execution_count": null,
   "metadata": {},
   "outputs": [],
   "source": []
  },
  {
   "cell_type": "code",
   "execution_count": 53,
   "metadata": {},
   "outputs": [
    {
     "name": "stderr",
     "output_type": "stream",
     "text": [
      "C:\\Users\\darsh\\Anaconda3\\lib\\site-packages\\qiskit\\providers\\ibmq\\credentials\\configrc.py:130: UserWarning: Credentials already present. Set overwrite=True to overwrite.\n",
      "  warnings.warn('Credentials already present. '\n",
      "C:\\Users\\darsh\\Anaconda3\\lib\\site-packages\\qiskit\\providers\\ibmq\\ibmqprovider.py:272: UserWarning: Credentials are already in use.\n",
      "  warnings.warn('Credentials are already in use.')\n"
     ]
    }
   ],
   "source": [
    "import logging\n",
    "from qiskit.aqua import set_qiskit_aqua_logging\n",
    "set_qiskit_aqua_logging(logging.DEBUG)\n",
    "\n",
    "from qiskit import IBMQ\n",
    "IBMQ.save_account('2670c486a8792dff6c5327a9729c669ffe3fe33b5970cb3b5c1fd8662121db289092e7eb6d2525215d9d0e17808cf25599b7da660807e30e2c3409e302bfb2f5', 'https://api.quantum-computing.ibm.com/api/Hubs/ibm-q/Groups/open/Projects/main')\n",
    "\n",
    "IBMQ.load_accounts()\n",
    "\n",
    "#backend = IBMQ.get_backend('ibmq_5_yorktown')\n",
    "#print(\"Running on device: \", backend)"
   ]
  },
  {
   "cell_type": "code",
   "execution_count": 57,
   "metadata": {},
   "outputs": [
    {
     "name": "stderr",
     "output_type": "stream",
     "text": [
      "2019-06-10 13:49:22,197:qiskit.aqua.parser.json_schema:DEBUG: Input: {\n",
      "    \"depth\": 1,\n",
      "    \"entanglement\": \"linear\",\n",
      "    \"entangler_map\": null\n",
      "}\n",
      "2019-06-10 13:49:22,201:qiskit.aqua.parser.json_schema:DEBUG: Input Schema: {\n",
      "    \"$schema\": \"http://json-schema.org/schema#\",\n",
      "    \"additionalProperties\": false,\n",
      "    \"id\": \"Second_Order_Expansion_schema\",\n",
      "    \"properties\": {\n",
      "        \"depth\": {\n",
      "            \"default\": 2,\n",
      "            \"minimum\": 1,\n",
      "            \"type\": \"integer\"\n",
      "        },\n",
      "        \"entanglement\": {\n",
      "            \"default\": \"full\",\n",
      "            \"oneOf\": [\n",
      "                {\n",
      "                    \"enum\": [\n",
      "                        \"full\",\n",
      "                        \"linear\"\n",
      "                    ]\n",
      "                }\n",
      "            ],\n",
      "            \"type\": \"string\"\n",
      "        },\n",
      "        \"entangler_map\": {\n",
      "            \"default\": null,\n",
      "            \"type\": [\n",
      "                \"array\",\n",
      "                \"null\"\n",
      "            ]\n",
      "        }\n",
      "    },\n",
      "    \"type\": \"object\"\n",
      "}\n",
      "2019-06-10 13:49:22,202:qiskit.aqua.parser.json_schema:DEBUG: Input: {\n",
      "    \"depth\": 1,\n",
      "    \"entanglement\": \"linear\",\n",
      "    \"entangler_map\": null\n",
      "}\n",
      "2019-06-10 13:49:22,204:qiskit.aqua.parser.json_schema:DEBUG: Input Schema: {\n",
      "    \"$schema\": \"http://json-schema.org/schema#\",\n",
      "    \"additionalProperties\": false,\n",
      "    \"id\": \"Second_Order_Expansion_schema\",\n",
      "    \"properties\": {\n",
      "        \"depth\": {\n",
      "            \"default\": 2,\n",
      "            \"minimum\": 1,\n",
      "            \"type\": \"integer\"\n",
      "        },\n",
      "        \"entanglement\": {\n",
      "            \"default\": \"full\",\n",
      "            \"oneOf\": [\n",
      "                {\n",
      "                    \"enum\": [\n",
      "                        \"full\",\n",
      "                        \"linear\"\n",
      "                    ]\n",
      "                }\n",
      "            ],\n",
      "            \"type\": \"string\"\n",
      "        },\n",
      "        \"entangler_map\": {\n",
      "            \"default\": null,\n",
      "            \"type\": [\n",
      "                \"array\",\n",
      "                \"null\"\n",
      "            ]\n",
      "        }\n",
      "    },\n",
      "    \"type\": \"object\"\n",
      "}\n",
      "2019-06-10 13:49:22,204:qiskit.aqua.parser.json_schema:DEBUG: Input: {\n",
      "    \"depth\": 1,\n",
      "    \"entanglement\": \"linear\",\n",
      "    \"entangler_map\": null\n",
      "}\n",
      "2019-06-10 13:49:22,206:qiskit.aqua.parser.json_schema:DEBUG: Input Schema: {\n",
      "    \"$schema\": \"http://json-schema.org/schema#\",\n",
      "    \"additionalProperties\": false,\n",
      "    \"id\": \"Second_Order_Expansion_schema\",\n",
      "    \"properties\": {\n",
      "        \"depth\": {\n",
      "            \"default\": 2,\n",
      "            \"minimum\": 1,\n",
      "            \"type\": \"integer\"\n",
      "        },\n",
      "        \"entanglement\": {\n",
      "            \"default\": \"full\",\n",
      "            \"oneOf\": [\n",
      "                {\n",
      "                    \"enum\": [\n",
      "                        \"full\",\n",
      "                        \"linear\"\n",
      "                    ]\n",
      "                }\n",
      "            ],\n",
      "            \"type\": \"string\"\n",
      "        },\n",
      "        \"entangler_map\": {\n",
      "            \"default\": null,\n",
      "            \"type\": [\n",
      "                \"array\",\n",
      "                \"null\"\n",
      "            ]\n",
      "        }\n",
      "    },\n",
      "    \"type\": \"object\"\n",
      "}\n",
      "2019-06-10 13:49:22,208:qiskit.aqua.components.feature_maps.pauli_expansion:WARNING: Due to the limited entangler_map, IIIZIZ is skipped.\n",
      "2019-06-10 13:49:22,209:qiskit.aqua.components.feature_maps.pauli_expansion:WARNING: Due to the limited entangler_map, IIZIIZ is skipped.\n",
      "2019-06-10 13:49:22,209:qiskit.aqua.components.feature_maps.pauli_expansion:WARNING: Due to the limited entangler_map, IZIIIZ is skipped.\n",
      "2019-06-10 13:49:22,210:qiskit.aqua.components.feature_maps.pauli_expansion:WARNING: Due to the limited entangler_map, ZIIIIZ is skipped.\n",
      "2019-06-10 13:49:22,210:qiskit.aqua.components.feature_maps.pauli_expansion:WARNING: Due to the limited entangler_map, IIZIZI is skipped.\n",
      "2019-06-10 13:49:22,211:qiskit.aqua.components.feature_maps.pauli_expansion:WARNING: Due to the limited entangler_map, IZIIZI is skipped.\n",
      "2019-06-10 13:49:22,211:qiskit.aqua.components.feature_maps.pauli_expansion:WARNING: Due to the limited entangler_map, ZIIIZI is skipped.\n",
      "2019-06-10 13:49:22,212:qiskit.aqua.components.feature_maps.pauli_expansion:WARNING: Due to the limited entangler_map, IZIZII is skipped.\n",
      "2019-06-10 13:49:22,213:qiskit.aqua.components.feature_maps.pauli_expansion:WARNING: Due to the limited entangler_map, ZIIZII is skipped.\n",
      "2019-06-10 13:49:22,214:qiskit.aqua.components.feature_maps.pauli_expansion:WARNING: Due to the limited entangler_map, ZIZIII is skipped.\n",
      "2019-06-10 13:49:22,214:qiskit.aqua.components.feature_maps.pauli_expansion:INFO: Pauli terms include: ['IIIIIZ', 'IIIIZI', 'IIIZII', 'IIZIII', 'IZIIII', 'ZIIIII', 'IIIIZZ', 'IIIZZI', 'IIZZII', 'IZZIII', 'ZZIIII']\n",
      "2019-06-10 13:49:22,218:qiskit.aqua.quantum_instance:INFO: \n",
      "Qiskit Terra version: 0.8.1\n",
      "Backend: 'qasm_simulator (BasicAer)', with following setting:\n",
      "{'basis_gates': ['u1', 'u2', 'u3', 'cx', 'id', 'unitary'], 'coupling_map': None}\n",
      "{'pass_manager': None, 'initial_layout': None, 'seed_transpiler': 10598}\n",
      "RunConfig(max_credits=10, seed=10598, shots=1024)\n",
      "{'timeout': None}\n",
      "{}\n",
      "{}\n",
      "Measurement mitigation: None\n",
      "2019-06-10 13:49:22,224:qiskit.aqua.algorithms.many_sample.qsvm.qsvm:DEBUG: Building circuits:\n",
      "|█-------------------------------------------------| 22/780 [00:00:00:06]"
     ]
    },
    {
     "name": "stdout",
     "output_type": "stream",
     "text": [
      "Running on device:  qasm_simulator\n"
     ]
    },
    {
     "name": "stderr",
     "output_type": "stream",
     "text": [
      "|██████████████████████████████████████████████████| 780/780 [00:00:00:00]\n",
      "2019-06-10 13:49:33,968:qiskit.aqua.utils.run_circuits:INFO: Circuit cache is empty, compiling from scratch.\n",
      "2019-06-10 13:50:17,469:qiskit.aqua.algorithms.many_sample.qsvm.qsvm:DEBUG: Calculating overlap:\n",
      "|██████████████████████████████████████████████████| 780/780 [00:00:00:00]\n",
      "2019-06-10 13:50:18,314:qiskit.aqua.utils.qp_solver:DEBUG: Solving QP problem is completed.\n",
      "2019-06-10 13:50:18,317:qiskit.aqua.algorithms.many_sample.qsvm.qsvm:DEBUG: Building circuits:\n",
      "|██████████████████████████████████████████████████| 340/340 [00:00:00:00]\n",
      "2019-06-10 13:50:29,410:qiskit.aqua.algorithms.many_sample.qsvm.qsvm:DEBUG: Calculating overlap:\n",
      "|██████████████████████████████████████████████████| 340/340 [00:00:00:00]\n",
      "2019-06-10 13:50:29,839:qiskit.aqua.algorithms.many_sample.qsvm._qsvm_binary:DEBUG: Classification success for this set is 60.00% \n",
      "\n"
     ]
    }
   ],
   "source": [
    "seed = 10598\n",
    "\n",
    "feature_map = SecondOrderExpansion(feature_dimension=n, depth=1, entanglement='linear')\n",
    "qsvm = QSVM.(feature_map, training_input, test_input)\n",
    "\n",
    "backend = BasicAer.get_backend('qasm_simulator')\n",
    "#backend = IBMQ.get_backend('ibmq_5_yorktown')\n",
    "\n",
    "print(\"Running on device: \", backend)\n",
    "\n",
    "quantum_instance = QuantumInstance(backend, shots=1024, seed=seed, seed_transpiler=seed)\n",
    "\n",
    "result = qsvm.run(quantum_instance)\n"
   ]
  },
  {
   "cell_type": "code",
   "execution_count": 55,
   "metadata": {},
   "outputs": [
    {
     "name": "stdout",
     "output_type": "stream",
     "text": [
      "Testing success ratio: 0.8\n"
     ]
    }
   ],
   "source": [
    "print(\"Testing success ratio: {}\".format(result['testing_accuracy']))\n"
   ]
  },
  {
   "cell_type": "code",
   "execution_count": null,
   "metadata": {},
   "outputs": [],
   "source": []
  },
  {
   "cell_type": "code",
   "execution_count": null,
   "metadata": {},
   "outputs": [],
   "source": []
  }
 ],
 "metadata": {
  "kernelspec": {
   "display_name": "Python 3",
   "language": "python",
   "name": "python3"
  },
  "language_info": {
   "codemirror_mode": {
    "name": "ipython",
    "version": 3
   },
   "file_extension": ".py",
   "mimetype": "text/x-python",
   "name": "python",
   "nbconvert_exporter": "python",
   "pygments_lexer": "ipython3",
   "version": "3.7.1"
  }
 },
 "nbformat": 4,
 "nbformat_minor": 2
}
