{
  "nbformat": 4,
  "nbformat_minor": 0,
  "metadata": {
    "colab": {
      "name": "Untitled327.ipynb",
      "provenance": [],
      "authorship_tag": "ABX9TyMjiXGXWCmig7zU0FdsgylO",
      "include_colab_link": true
    },
    "kernelspec": {
      "name": "python3",
      "display_name": "Python 3"
    }
  },
  "cells": [
    {
      "cell_type": "markdown",
      "metadata": {
        "id": "view-in-github",
        "colab_type": "text"
      },
      "source": [
        "<a href=\"https://colab.research.google.com/github/priyasi345/tensorflow_quantum_ml/blob/master/QGAN_european_call_option_pricing.ipynb\" target=\"_parent\"><img src=\"https://colab.research.google.com/assets/colab-badge.svg\" alt=\"Open In Colab\"/></a>"
      ]
    },
    {
      "cell_type": "code",
      "metadata": {
        "id": "A8v8UpSKXaqX",
        "colab_type": "code",
        "colab": {}
      },
      "source": [
        "##Quantum Machine Learning Algorithm, namely a quantum Generative Adversarial Network (qGAN), can facilitate the pricing of a European call option. More specifically, a qGAN can be trained such that a quantum circuit models the spot price of an asset underlying a European call option. The resulting model can then be integrated into a Quantum Amplitude Estimation based algorithm to evaluate the expected payoff "
      ],
      "execution_count": null,
      "outputs": []
    },
    {
      "cell_type": "code",
      "metadata": {
        "id": "LwvAnTUFWDFD",
        "colab_type": "code",
        "colab": {
          "base_uri": "https://localhost:8080/",
          "height": 1000
        },
        "outputId": "7b2d9d97-8583-4c4a-bc30-50f062480d34"
      },
      "source": [
        "!pip install qiskit"
      ],
      "execution_count": 2,
      "outputs": [
        {
          "output_type": "stream",
          "text": [
            "Collecting qiskit\n",
            "  Downloading https://files.pythonhosted.org/packages/38/4e/f275e4b0bc1b8d1c61d8088d693e480fa396c8f3d32e516655f25c510792/qiskit-0.19.6.tar.gz\n",
            "Collecting qiskit-terra==0.14.2\n",
            "\u001b[?25l  Downloading https://files.pythonhosted.org/packages/64/84/47c2b87551fe81a435eb4224991c1713d538b0605bda4e3c737f4a9f2cc2/qiskit_terra-0.14.2-cp36-cp36m-manylinux2010_x86_64.whl (6.7MB)\n",
            "\u001b[K     |████████████████████████████████| 6.7MB 4.0MB/s \n",
            "\u001b[?25hCollecting qiskit-aer==0.5.2\n",
            "\u001b[?25l  Downloading https://files.pythonhosted.org/packages/45/6f/2d269684891b634cce6ddb5684fd004c7b6bf986cec8544f4b6f495c8b99/qiskit_aer-0.5.2-cp36-cp36m-manylinux2010_x86_64.whl (23.3MB)\n",
            "\u001b[K     |████████████████████████████████| 23.3MB 1.5MB/s \n",
            "\u001b[?25hCollecting qiskit-ibmq-provider==0.7.2\n",
            "\u001b[?25l  Downloading https://files.pythonhosted.org/packages/92/1f/0c6b290064a471a8a9c1e3366367b46d320efdad6b730eadefbd1f3c4eb0/qiskit_ibmq_provider-0.7.2-py3-none-any.whl (155kB)\n",
            "\u001b[K     |████████████████████████████████| 163kB 48.8MB/s \n",
            "\u001b[?25hCollecting qiskit-ignis==0.3.3\n",
            "\u001b[?25l  Downloading https://files.pythonhosted.org/packages/06/5e/273c6f99b4b64dcbab37990627778ed38d8f52e8060db7fc67f38f09fbb2/qiskit_ignis-0.3.3-py3-none-any.whl (179kB)\n",
            "\u001b[K     |████████████████████████████████| 184kB 47.6MB/s \n",
            "\u001b[?25hCollecting qiskit-aqua==0.7.3\n",
            "\u001b[?25l  Downloading https://files.pythonhosted.org/packages/89/18/00c426f06abfa0461a4d794d833c036f8ac5f88062f368d01f739ee1c032/qiskit_aqua-0.7.3-py3-none-any.whl (1.9MB)\n",
            "\u001b[K     |████████████████████████████████| 1.9MB 46.5MB/s \n",
            "\u001b[?25hCollecting marshmallow<4,>=3\n",
            "\u001b[?25l  Downloading https://files.pythonhosted.org/packages/8e/4d/1c64381398d25bc46250373dbeec89713f06e23eba8531c9eccd4e671a8a/marshmallow-3.6.1-py2.py3-none-any.whl (45kB)\n",
            "\u001b[K     |████████████████████████████████| 51kB 6.4MB/s \n",
            "\u001b[?25hCollecting ply>=3.10\n",
            "\u001b[?25l  Downloading https://files.pythonhosted.org/packages/a3/58/35da89ee790598a0700ea49b2a66594140f44dec458c07e8e3d4979137fc/ply-3.11-py2.py3-none-any.whl (49kB)\n",
            "\u001b[K     |████████████████████████████████| 51kB 6.6MB/s \n",
            "\u001b[?25hRequirement already satisfied: psutil>=5 in /usr/local/lib/python3.6/dist-packages (from qiskit-terra==0.14.2->qiskit) (5.4.8)\n",
            "Collecting python-constraint>=1.4\n",
            "  Downloading https://files.pythonhosted.org/packages/37/8b/5f1bc2734ca611943e1d6733ee244238679f6410a10cd45ede55a61a8402/python-constraint-1.4.0.tar.bz2\n",
            "Collecting sympy>=1.3\n",
            "\u001b[?25l  Downloading https://files.pythonhosted.org/packages/a4/ea/590e1f2c73a1b8f878a1398b0edbf261d660439a9f851accb39db73d8e2f/sympy-1.6-py3-none-any.whl (5.8MB)\n",
            "\u001b[K     |████████████████████████████████| 5.8MB 43.4MB/s \n",
            "\u001b[?25hRequirement already satisfied: python-dateutil>=2.8.0 in /usr/local/lib/python3.6/dist-packages (from qiskit-terra==0.14.2->qiskit) (2.8.1)\n",
            "Requirement already satisfied: scipy>=1.4 in /usr/local/lib/python3.6/dist-packages (from qiskit-terra==0.14.2->qiskit) (1.4.1)\n",
            "Requirement already satisfied: jsonschema>=2.6 in /usr/local/lib/python3.6/dist-packages (from qiskit-terra==0.14.2->qiskit) (2.6.0)\n",
            "Collecting marshmallow-polyfield<6,>=5.7\n",
            "  Downloading https://files.pythonhosted.org/packages/0c/7e/ceb805d05cd03709b8de122b4ac1e736c4eb91d05281ad2a2bcb484accef/marshmallow-polyfield-5.9.tar.gz\n",
            "Collecting retworkx>=0.3.2\n",
            "\u001b[?25l  Downloading https://files.pythonhosted.org/packages/28/44/e28d30808fc093bb82393737f36f1fd370afe5ed82a08c382c4672340916/retworkx-0.3.4-cp36-cp36m-manylinux2010_x86_64.whl (763kB)\n",
            "\u001b[K     |████████████████████████████████| 768kB 40.9MB/s \n",
            "\u001b[?25hRequirement already satisfied: numpy>=1.17 in /usr/local/lib/python3.6/dist-packages (from qiskit-terra==0.14.2->qiskit) (1.18.5)\n",
            "Requirement already satisfied: dill>=0.3 in /usr/local/lib/python3.6/dist-packages (from qiskit-terra==0.14.2->qiskit) (0.3.2)\n",
            "Collecting fastjsonschema>=2.10\n",
            "  Downloading https://files.pythonhosted.org/packages/3a/2b/5e93ebbdc92fe742bfc006f79336c2ddcb436747ef579bc05057c43ad876/fastjsonschema-2.14.4-py3-none-any.whl\n",
            "Requirement already satisfied: networkx>=2.2; python_version > \"3.5\" in /usr/local/lib/python3.6/dist-packages (from qiskit-terra==0.14.2->qiskit) (2.4)\n",
            "Collecting pybind11>=2.4\n",
            "\u001b[?25l  Downloading https://files.pythonhosted.org/packages/89/e3/d576f6f02bc75bacbc3d42494e8f1d063c95617d86648dba243c2cb3963e/pybind11-2.5.0-py2.py3-none-any.whl (296kB)\n",
            "\u001b[K     |████████████████████████████████| 296kB 44.9MB/s \n",
            "\u001b[?25hRequirement already satisfied: cython>=0.27.1 in /usr/local/lib/python3.6/dist-packages (from qiskit-aer==0.5.2->qiskit) (0.29.20)\n",
            "Collecting websockets<8,>=7\n",
            "\u001b[?25l  Downloading https://files.pythonhosted.org/packages/43/71/8bfa882b9c502c36e5c9ef6732969533670d2b039cbf95a82ced8f762b80/websockets-7.0-cp36-cp36m-manylinux1_x86_64.whl (63kB)\n",
            "\u001b[K     |████████████████████████████████| 71kB 8.1MB/s \n",
            "\u001b[?25hRequirement already satisfied: requests>=2.19 in /usr/local/lib/python3.6/dist-packages (from qiskit-ibmq-provider==0.7.2->qiskit) (2.23.0)\n",
            "Collecting requests-ntlm>=1.1.0\n",
            "  Downloading https://files.pythonhosted.org/packages/03/4b/8b9a1afde8072c4d5710d9fa91433d504325821b038e00237dc8d6d833dc/requests_ntlm-1.1.0-py2.py3-none-any.whl\n",
            "Requirement already satisfied: urllib3>=1.21.1 in /usr/local/lib/python3.6/dist-packages (from qiskit-ibmq-provider==0.7.2->qiskit) (1.24.3)\n",
            "Collecting nest-asyncio!=1.1.0,>=1.0.0\n",
            "  Downloading https://files.pythonhosted.org/packages/74/b4/b24e0a271fb78990c2c62238321686454824b1357ce7abcf20f431fd903d/nest_asyncio-1.3.3-py3-none-any.whl\n",
            "Requirement already satisfied: setuptools>=40.1.0 in /usr/local/lib/python3.6/dist-packages (from qiskit-ignis==0.3.3->qiskit) (47.3.1)\n",
            "Requirement already satisfied: scikit-learn>=0.17 in /usr/local/lib/python3.6/dist-packages (from qiskit-ignis==0.3.3->qiskit) (0.22.2.post1)\n",
            "Requirement already satisfied: h5py in /usr/local/lib/python3.6/dist-packages (from qiskit-aqua==0.7.3->qiskit) (2.10.0)\n",
            "Collecting dlx\n",
            "  Downloading https://files.pythonhosted.org/packages/54/c0/b8fb5bb727e983b6f5251433ef941b48f38c65bb0bd6ec509e9185bcd406/dlx-1.0.4.tar.gz\n",
            "Collecting quandl\n",
            "  Downloading https://files.pythonhosted.org/packages/07/ab/8cd479fba8a9b197a43a0d55dd534b066fb8e5a0a04b5c0384cbc5d663aa/Quandl-3.5.0-py2.py3-none-any.whl\n",
            "Requirement already satisfied: fastdtw in /usr/local/lib/python3.6/dist-packages (from qiskit-aqua==0.7.3->qiskit) (0.3.4)\n",
            "Collecting pyscf; sys_platform != \"win32\"\n",
            "\u001b[?25l  Downloading https://files.pythonhosted.org/packages/0c/69/c6dad63aec5519c287036e82beb36ca46e4a409604676b8787425fa7499c/pyscf-1.7.3-cp36-cp36m-manylinux1_x86_64.whl (26.0MB)\n",
            "\u001b[K     |████████████████████████████████| 26.0MB 172kB/s \n",
            "\u001b[?25hCollecting docplex\n",
            "\u001b[?25l  Downloading https://files.pythonhosted.org/packages/00/06/ad4441a00b8a9ff415882ff31273fe6519034879b6c2b65c47758a0278d5/docplex-2.14.186.tar.gz (572kB)\n",
            "\u001b[K     |████████████████████████████████| 573kB 37.7MB/s \n",
            "\u001b[?25hRequirement already satisfied: mpmath>=0.19 in /usr/local/lib/python3.6/dist-packages (from sympy>=1.3->qiskit-terra==0.14.2->qiskit) (1.1.0)\n",
            "Requirement already satisfied: six>=1.5 in /usr/local/lib/python3.6/dist-packages (from python-dateutil>=2.8.0->qiskit-terra==0.14.2->qiskit) (1.12.0)\n",
            "Requirement already satisfied: decorator>=4.3.0 in /usr/local/lib/python3.6/dist-packages (from networkx>=2.2; python_version > \"3.5\"->qiskit-terra==0.14.2->qiskit) (4.4.2)\n",
            "Requirement already satisfied: idna<3,>=2.5 in /usr/local/lib/python3.6/dist-packages (from requests>=2.19->qiskit-ibmq-provider==0.7.2->qiskit) (2.9)\n",
            "Requirement already satisfied: certifi>=2017.4.17 in /usr/local/lib/python3.6/dist-packages (from requests>=2.19->qiskit-ibmq-provider==0.7.2->qiskit) (2020.6.20)\n",
            "Requirement already satisfied: chardet<4,>=3.0.2 in /usr/local/lib/python3.6/dist-packages (from requests>=2.19->qiskit-ibmq-provider==0.7.2->qiskit) (3.0.4)\n",
            "Collecting cryptography>=1.3\n",
            "\u001b[?25l  Downloading https://files.pythonhosted.org/packages/3c/04/686efee2dcdd25aecf357992e7d9362f443eb182ecd623f882bc9f7a6bba/cryptography-2.9.2-cp35-abi3-manylinux2010_x86_64.whl (2.7MB)\n",
            "\u001b[K     |████████████████████████████████| 2.7MB 45.2MB/s \n",
            "\u001b[?25hCollecting ntlm-auth>=1.0.2\n",
            "  Downloading https://files.pythonhosted.org/packages/ff/84/97c550164b54942b0e908c31ef09d9469f3ba4cd7332a671e2125732f63b/ntlm_auth-1.5.0-py2.py3-none-any.whl\n",
            "Requirement already satisfied: joblib>=0.11 in /usr/local/lib/python3.6/dist-packages (from scikit-learn>=0.17->qiskit-ignis==0.3.3->qiskit) (0.15.1)\n",
            "Requirement already satisfied: pandas>=0.14 in /usr/local/lib/python3.6/dist-packages (from quandl->qiskit-aqua==0.7.3->qiskit) (1.0.5)\n",
            "Requirement already satisfied: more-itertools in /usr/local/lib/python3.6/dist-packages (from quandl->qiskit-aqua==0.7.3->qiskit) (8.4.0)\n",
            "Collecting inflection>=0.3.1\n",
            "  Downloading https://files.pythonhosted.org/packages/d2/cd/f04c661d1b5ba6b7d77008e8fedd28a27a683eeeffcd93c6b2dbe54ea983/inflection-0.5.0-py2.py3-none-any.whl\n",
            "Requirement already satisfied: cffi!=1.11.3,>=1.8 in /usr/local/lib/python3.6/dist-packages (from cryptography>=1.3->requests-ntlm>=1.1.0->qiskit-ibmq-provider==0.7.2->qiskit) (1.14.0)\n",
            "Requirement already satisfied: pytz>=2017.2 in /usr/local/lib/python3.6/dist-packages (from pandas>=0.14->quandl->qiskit-aqua==0.7.3->qiskit) (2018.9)\n",
            "Requirement already satisfied: pycparser in /usr/local/lib/python3.6/dist-packages (from cffi!=1.11.3,>=1.8->cryptography>=1.3->requests-ntlm>=1.1.0->qiskit-ibmq-provider==0.7.2->qiskit) (2.20)\n",
            "Building wheels for collected packages: qiskit, python-constraint, marshmallow-polyfield, dlx, docplex\n",
            "  Building wheel for qiskit (setup.py) ... \u001b[?25l\u001b[?25hdone\n",
            "  Created wheel for qiskit: filename=qiskit-0.19.6-cp36-none-any.whl size=3019 sha256=54e71b69583005866e7c897fa1aa293dfa14a2dcf4ae1f1414550c1b878541f2\n",
            "  Stored in directory: /root/.cache/pip/wheels/35/45/55/8b82d355edf738ebd6d7f261f17ef1e7ca9ffc7d139c878e10\n",
            "  Building wheel for python-constraint (setup.py) ... \u001b[?25l\u001b[?25hdone\n",
            "  Created wheel for python-constraint: filename=python_constraint-1.4.0-py2.py3-none-any.whl size=24080 sha256=562a021507e0bd8a335e92dec45f0b827b16f886bc803ed3a0e5a8ea0fd9ce7e\n",
            "  Stored in directory: /root/.cache/pip/wheels/34/31/15/7b070b25d0a549d20ce2e9fe6d727471c2c61ef904720fd40c\n",
            "  Building wheel for marshmallow-polyfield (setup.py) ... \u001b[?25l\u001b[?25hdone\n",
            "  Created wheel for marshmallow-polyfield: filename=marshmallow_polyfield-5.9-cp36-none-any.whl size=8537 sha256=fe43121e8bb26ede0f94cbe910b505e710d9e45751094ecfce955ecadb1f932d\n",
            "  Stored in directory: /root/.cache/pip/wheels/69/27/3e/7472f75eab2db111aa387715fe009af15899459517fc1a1906\n",
            "  Building wheel for dlx (setup.py) ... \u001b[?25l\u001b[?25hdone\n",
            "  Created wheel for dlx: filename=dlx-1.0.4-cp36-none-any.whl size=5712 sha256=6e534939b32472c79a9aef4ca9b7cbfb426f5e5eb521d7dbec5f0091b2ddf5a8\n",
            "  Stored in directory: /root/.cache/pip/wheels/bb/ba/15/fdd0deb104df3254912998150ba9245668db06b00af5912d1a\n",
            "  Building wheel for docplex (setup.py) ... \u001b[?25l\u001b[?25hdone\n",
            "  Created wheel for docplex: filename=docplex-2.14.186-cp36-none-any.whl size=634442 sha256=f6f5e77236a27f86eb18859c01f9117521b544cdaac5551b50ac672ad7d4a55d\n",
            "  Stored in directory: /root/.cache/pip/wheels/aa/28/cd/ba75f92d49b25dacec6b80f99efcc393dc84abf33f96632ac4\n",
            "Successfully built qiskit python-constraint marshmallow-polyfield dlx docplex\n",
            "Installing collected packages: marshmallow, ply, python-constraint, sympy, marshmallow-polyfield, retworkx, fastjsonschema, qiskit-terra, pybind11, qiskit-aer, websockets, cryptography, ntlm-auth, requests-ntlm, nest-asyncio, qiskit-ibmq-provider, qiskit-ignis, dlx, inflection, quandl, pyscf, docplex, qiskit-aqua, qiskit\n",
            "  Found existing installation: sympy 1.1.1\n",
            "    Uninstalling sympy-1.1.1:\n",
            "      Successfully uninstalled sympy-1.1.1\n",
            "Successfully installed cryptography-2.9.2 dlx-1.0.4 docplex-2.14.186 fastjsonschema-2.14.4 inflection-0.5.0 marshmallow-3.6.1 marshmallow-polyfield-5.9 nest-asyncio-1.3.3 ntlm-auth-1.5.0 ply-3.11 pybind11-2.5.0 pyscf-1.7.3 python-constraint-1.4.0 qiskit-0.19.6 qiskit-aer-0.5.2 qiskit-aqua-0.7.3 qiskit-ibmq-provider-0.7.2 qiskit-ignis-0.3.3 qiskit-terra-0.14.2 quandl-3.5.0 requests-ntlm-1.1.0 retworkx-0.3.4 sympy-1.6 websockets-7.0\n"
          ],
          "name": "stdout"
        }
      ]
    },
    {
      "cell_type": "code",
      "metadata": {
        "id": "Y4CFcl20V8t_",
        "colab_type": "code",
        "colab": {}
      },
      "source": [
        "import matplotlib.pyplot as plt\n",
        "%matplotlib inline\n",
        "import numpy as np\n",
        "from qiskit.circuit import ParameterVector\n",
        "from qiskit.aqua.algorithms import AmplitudeEstimation\n",
        "from qiskit.finance.components.uncertainty_problems import EuropeanCallExpectedValue\n",
        "from qiskit.aqua.components.uncertainty_models import UnivariateVariationalDistribution, NormalDistribution\n",
        "from qiskit.aqua.components.variational_forms import RY\n",
        "from qiskit import QuantumRegister, QuantumCircuit\n",
        "from qiskit.aqua.components.initial_states import Custom\n",
        "\n",
        "from qiskit.aqua import aqua_globals, QuantumInstance\n",
        "\n",
        "from qiskit import BasicAer"
      ],
      "execution_count": 3,
      "outputs": []
    },
    {
      "cell_type": "code",
      "metadata": {
        "id": "mnm58slBWR6M",
        "colab_type": "code",
        "colab": {
          "base_uri": "https://localhost:8080/",
          "height": 54
        },
        "outputId": "986b0103-60c5-48a1-c7f9-aa8b10300e25"
      },
      "source": [
        "\n",
        "# Set upper and lower data values\n",
        "bounds = np.array([0.,7.])\n",
        "# Set number of qubits used in the uncertainty model\n",
        "num_qubits = [3]\n",
        "\n",
        "# Set entangler map\n",
        "entangler_map = []\n",
        "for i in range(sum(num_qubits)):\n",
        "    entangler_map.append([i, int(np.mod(i+1, sum(num_qubits)))])\n",
        "\n",
        "# Load the trained circuit parameters\n",
        "g_params = [0.29399714, 0.38853322, 0.9557694,  0.07245791, 6.02626428, 0.13537225]\n",
        "# Set an initial state for the generator circuit\n",
        "init_dist = NormalDistribution(int(sum(num_qubits)), mu=1., sigma=1., low=bounds[0], high=bounds[1])\n",
        "init_distribution = np.sqrt(init_dist.probabilities)\n",
        "init_distribution = Custom(num_qubits=sum(num_qubits), state_vector=init_distribution)\n",
        "\n",
        "var_form = RY(int(np.sum(num_qubits)), depth=1, initial_state=init_distribution,\n",
        "              entangler_map=entangler_map, entanglement_gate='cz')\n",
        "theta = ParameterVector('θ', var_form.num_parameters)\n",
        "var_form = var_form.construct_circuit(theta)\n",
        "# Set generator circuit\n",
        "g_circuit = UnivariateVariationalDistribution(int(sum(num_qubits)), var_form, g_params,\n",
        "                                              low=bounds[0], high=bounds[1])\n",
        "g_circuit._var_form_params = theta\n",
        "# construct circuit factory for uncertainty model\n",
        "uncertainty_model = g_circuit"
      ],
      "execution_count": 4,
      "outputs": [
        {
          "output_type": "stream",
          "text": [
            "/usr/local/lib/python3.6/dist-packages/ipykernel_launcher.py:20: DeprecationWarning: The qiskit.aqua.components.variational_forms.RY object is deprecated as of 0.7.0 and will be removed no sooner than 3 months after the release. You should use qiskit.circuit.library.RealAmplitudes (uses CX entangling) or qiskit.circuit.library.TwoLocal instead.\n"
          ],
          "name": "stderr"
        }
      ]
    },
    {
      "cell_type": "code",
      "metadata": {
        "id": "1OsIffsoWXGk",
        "colab_type": "code",
        "colab": {}
      },
      "source": [
        "# set the strike price (should be within the low and the high value of the uncertainty)\n",
        "strike_price = 2\n",
        "\n",
        "# set the approximation scaling for the payoff function\n",
        "c_approx = 0.25\n",
        "\n",
        "# construct circuit factory for payoff function\n",
        "european_call = EuropeanCallExpectedValue(\n",
        "    uncertainty_model,\n",
        "    strike_price=strike_price,\n",
        "    c_approx=c_approx\n",
        ")"
      ],
      "execution_count": 5,
      "outputs": []
    },
    {
      "cell_type": "code",
      "metadata": {
        "id": "4UsnoDyKWbXg",
        "colab_type": "code",
        "colab": {
          "base_uri": "https://localhost:8080/",
          "height": 344
        },
        "outputId": "6d784684-d7a8-4c4a-f456-28093a067e48"
      },
      "source": [
        "#trained probability distribution\n",
        "init_distribution = np.sqrt(init_dist.probabilities)\n",
        "init_distribution = Custom(num_qubits=sum(num_qubits), state_vector=init_distribution)\n",
        "\n",
        "var_form = RY(int(np.sum(num_qubits)), depth=1, initial_state=init_distribution,\n",
        "              entangler_map=entangler_map, entanglement_gate='cz')\n",
        "theta = ParameterVector('θ', var_form.num_parameters)\n",
        "var_form = var_form.construct_circuit(theta)\n",
        "g_circuit = UnivariateVariationalDistribution(int(sum(num_qubits)), var_form, g_params, low=bounds[0], high=bounds[1])\n",
        "g_circuit._var_form_params = theta\n",
        "uncertainty_model = g_circuit\n",
        "uncertainty_model.set_probabilities(QuantumInstance(BasicAer.get_backend('statevector_simulator')))\n",
        "x = uncertainty_model.values\n",
        "y = uncertainty_model.probabilities\n",
        "#target probability distribution\n",
        "N = 100000\n",
        "log_normal = np.random.lognormal(mean=1, sigma=1, size=N)\n",
        "log_normal = np.round(log_normal)\n",
        "log_normal = log_normal[log_normal <= 7]\n",
        "\n",
        "log_normal_samples = []\n",
        "for i in range(8):\n",
        "    log_normal_samples += [np.sum(log_normal==i)]\n",
        "log_normal_samples = np.array(log_normal_samples / sum(log_normal_samples))\n",
        "\n",
        "\n",
        "plt.bar(x, y, width=0.2, label='trained distribution', color='royalblue')\n",
        "plt.xticks(x, size=15, rotation=90)\n",
        "plt.yticks(size=15)\n",
        "plt.grid()\n",
        "plt.xlabel('Spot Price at Maturity $S_T$ (\\$)', size=15)\n",
        "plt.ylabel('Probability ($\\%$)', size=15)\n",
        "plt.plot(log_normal_samples,'-o', color ='deepskyblue', label='target distribution', linewidth=4, markersize=12)\n",
        "plt.legend(loc='best')\n",
        "plt.show()"
      ],
      "execution_count": 6,
      "outputs": [
        {
          "output_type": "stream",
          "text": [
            "/usr/local/lib/python3.6/dist-packages/ipykernel_launcher.py:6: DeprecationWarning: The qiskit.aqua.components.variational_forms.RY object is deprecated as of 0.7.0 and will be removed no sooner than 3 months after the release. You should use qiskit.circuit.library.RealAmplitudes (uses CX entangling) or qiskit.circuit.library.TwoLocal instead.\n",
            "  \n"
          ],
          "name": "stderr"
        },
        {
          "output_type": "display_data",
          "data": {
            "image/png": "[encoded data removed]",
            "text/plain": [
              "<Figure size 432x288 with 1 Axes>"
            ]
          },
          "metadata": {
            "tags": [],
            "needs_background": "light"
          }
        }
      ]
    },
    {
      "cell_type": "code",
      "metadata": {
        "id": "CqB9LZ8-Wf2P",
        "colab_type": "code",
        "colab": {
          "base_uri": "https://localhost:8080/",
          "height": 370
        },
        "outputId": "c750c08d-34b0-48db-a83e-28cf4f426439"
      },
      "source": [
        "payoff = np.array([0,0,0,1,2,3,4,5])\n",
        "ep = np.dot(log_normal_samples, payoff)\n",
        "print(\"Analytically calculated expected payoff w.r.t. the target distribution: \", ep)\n",
        "ep_trained = np.dot(y, payoff)\n",
        "print(\"Analytically calculated expected payoff w.r.t. the trained distribution: \", ep_trained)\n",
        "\n",
        "# set number of evaluation qubits (samples)\n",
        "m = 5\n",
        "\n",
        "# construct amplitude estimation \n",
        "ae = AmplitudeEstimation(m, european_call)\n",
        "# result = ae.run(quantum_instance=BasicAer.get_backend('qasm_simulator'), shots=100)\n",
        "result = ae.run(quantum_instance=BasicAer.get_backend('statevector_simulator'))\n",
        "print('Expected payoff calculated with Quantum Amplitude Estimation: \\t%.4f' % result['estimation'])\n",
        "print('Probability: \\t%.4f' % result['max_probability'])\n",
        "\n",
        "# plot exact payoff function (evaluated on the grid of the trained uncertainty model)\n",
        "x = uncertainty_model.values\n",
        "y_strike = np.maximum(0, x - strike_price)\n",
        "plt.plot(x, y_strike, 'ro-')\n",
        "plt.grid()\n",
        "plt.title('Payoff Function', size=15)\n",
        "plt.xlabel('Spot Price', size=15)\n",
        "plt.ylabel('Payoff', size=15)\n",
        "plt.xticks(x, size=15, rotation=90)\n",
        "plt.yticks(size=15)\n",
        "plt.show()"
      ],
      "execution_count": 7,
      "outputs": [
        {
          "output_type": "stream",
          "text": [
            "Analytically calculated expected payoff w.r.t. the target distribution:  1.0653155555555556\n",
            "Analytically calculated expected payoff w.r.t. the trained distribution:  0.9805308332649444\n",
            "Expected payoff calculated with Quantum Amplitude Estimation: \t1.2580\n",
            "Probability: \t0.8785\n"
          ],
          "name": "stdout"
        },
        {
          "output_type": "display_data",
          "data": {
            "image/png": "[encoded data removed]",
            "text/plain": [
              "<Figure size 432x288 with 1 Axes>"
            ]
          },
          "metadata": {
            "tags": [],
            "needs_background": "light"
          }
        }
      ]
    },
    {
      "cell_type": "code",
      "metadata": {
        "id": "GTdfo-8wWmYh",
        "colab_type": "code",
        "colab": {
          "base_uri": "https://localhost:8080/",
          "height": 532
        },
        "outputId": "f0cd2849-c653-4970-f31e-bf40eecff32e"
      },
      "source": [
        "import qiskit.tools.jupyter\n",
        "%qiskit_version_table\n",
        "%qiskit_copyright"
      ],
      "execution_count": 8,
      "outputs": [
        {
          "output_type": "display_data",
          "data": {
            "text/html": [
              "<h3>Version Information</h3><table><tr><th>Qiskit Software</th><th>Version</th></tr><tr><td>Qiskit</td><td>None</td></tr><tr><td>Terra</td><td>0.14.2</td></tr><tr><td>Aer</td><td>0.5.2</td></tr><tr><td>Ignis</td><td>0.3.3</td></tr><tr><td>Aqua</td><td>0.7.3</td></tr><tr><td>IBM Q Provider</td><td>0.7.2</td></tr><tr><th>System information</th></tr><tr><td>Python</td><td>3.6.9 (default, Apr 18 2020, 01:56:04) \n",
              "[GCC 8.4.0]</td></tr><tr><td>OS</td><td>Linux</td></tr><tr><td>CPUs</td><td>1</td></tr><tr><td>Memory (Gb)</td><td>12.71590805053711</td></tr><tr><td colspan='2'>Sun Jun 28 14:37:19 2020 UTC</td></tr></table>"
            ],
            "text/plain": [
              "<IPython.core.display.HTML object>"
            ]
          },
          "metadata": {
            "tags": []
          }
        },
        {
          "output_type": "display_data",
          "data": {
            "text/html": [
              "<div style='width: 100%; background-color:#d5d9e0;padding-left: 10px; padding-bottom: 10px; padding-right: 10px; padding-top: 5px'><h3>This code is a part of Qiskit</h3><p>&copy; Copyright IBM 2017, 2020.</p><p>This code is licensed under the Apache License, Version 2.0. You may<br>obtain a copy of this license in the LICENSE.txt file in the root directory<br> of this source tree or at http://www.apache.org/licenses/LICENSE-2.0.<p>Any modifications or derivative works of this code must retain this<br>copyright notice, and modified files need to carry a notice indicating<br>that they have been altered from the originals.</p></div>"
            ],
            "text/plain": [
              "<IPython.core.display.HTML object>"
            ]
          },
          "metadata": {
            "tags": []
          }
        }
      ]
    },
    {
      "cell_type": "code",
      "metadata": {
        "id": "G0igjoyIXHaV",
        "colab_type": "code",
        "colab": {}
      },
      "source": [
        ""
      ],
      "execution_count": null,
      "outputs": []
    }
  ]
}